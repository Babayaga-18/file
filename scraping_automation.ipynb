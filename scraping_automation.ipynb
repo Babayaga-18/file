{
 "cells": [
  {
   "cell_type": "code",
   "execution_count": 18,
   "id": "40c7391a-8f0d-4104-b2d2-c0a4be2753ce",
   "metadata": {},
   "outputs": [],
   "source": [
    "from selenium import webdriver\n",
    "import time\n",
    "import pandas as pd\n",
    "import os\n",
    "\n",
    "from selenium.webdriver.chrome.service import Service\n",
    "from selenium.webdriver.support.select import Select\n",
    "from selenium.webdriver.support.ui import WebDriverWait\n",
    "from selenium.webdriver.common.by import By\n",
    "from selenium.webdriver.support import expected_conditions as EC"
   ]
  },
  {
   "cell_type": "code",
   "execution_count": 19,
   "id": "25c24399-a543-41ca-9bb0-a9bbc468b60c",
   "metadata": {},
   "outputs": [],
   "source": [
    "url1 = 'https://www.linkedin.com/search/results/people/?keywords=data%20analyst%20&origin=FACETED_SEARCH&schoolFilter=%5B%229584148%22%5D&searchId=1b0c6776-1e9d-476d-819c-7a46ce4786de&sid=vKI'"
   ]
  },
  {
   "cell_type": "code",
   "execution_count": 20,
   "id": "02e4d115-6cfa-4ffc-819a-da675a0f1846",
   "metadata": {},
   "outputs": [],
   "source": [
    "service = Service(r'C:\\\\chromedriver-win64\\\\chromedriver.exe')"
   ]
  },
  {
   "cell_type": "code",
   "execution_count": 21,
   "id": "58353dfd-9418-4a62-a8d8-4188271b3d9d",
   "metadata": {},
   "outputs": [],
   "source": [
    "driver=webdriver.Chrome(service = service)\n",
    "driver.get(url1)\n",
    "email = driver.find_element(By.ID, 'username')\n",
    "email.send_keys('@gmail.com')\n",
    "password = driver.find_element(By.ID, 'password')\n",
    "password.send_keys('*****')\n",
    "login_button = driver.find_elements(By.CLASS_NAME,'login__form_action_container')\n",
    "login_button[0].click()\n",
    "driver.implicitly_wait(10)\n",
    "\n"
   ]
  },
  {
   "cell_type": "code",
   "execution_count": null,
   "id": "34e21795-cd4b-47aa-9abb-9a497cbe0697",
   "metadata": {},
   "outputs": [],
   "source": [
    "x = 2\n",
    "while x<=5:\n",
    "    driver.execute_script(\"window.scrollTo(0, document.body.scrollHeight);\")\n",
    "    x = x+1\n",
    "    time.sleep(3)\n",
    "\n",
    "    try:\n",
    "        next_button = driver.find_element(By.XPATH,\"//button[@aria-label='Next']\")\n",
    "        if next_button.is_enabled():\n",
    "          next_button.click()\n",
    "          time.sleep(3)\n",
    "        else:\n",
    "          print(\"Next button is disabled\")\n",
    "\n",
    "    except:\n",
    "        pass\n",
    "        time.sleep(4)"
   ]
  },
  {
   "cell_type": "code",
   "execution_count": 22,
   "id": "8cf29c8d-01d7-4944-a676-370d25b4eefe",
   "metadata": {},
   "outputs": [],
   "source": [
    "def scrape_result(driver):\n",
    "    result=[]\n",
    "    for _ in range(20):\n",
    "        profiles = driver.find_elements(By.XPATH,\".//li[contains(@class,'UcGxvgPRRWSURPbplNVaIuXFNTQv')]\")\n",
    "        for profile in profiles:\n",
    "            try:\n",
    "              name = profile.find_element(By.XPATH,\".//a[contains(@class, 'xrRzshziQfYBvuVMpfGnTyyiKZZqmaRxghNaNJtQ ')]//span[1]//span[1]\").text.strip()\n",
    "              occupation = profile.find_element(By.XPATH,\".//div[contains(@class,'hdPHVIWfwsUePbYDLRrptrFLvLfxcwLo')]\").text.strip()\n",
    "              location = profile.find_element(By.XPATH,\".//div[contains(@class,'ETNnXivkOQxVaEeQCSTBdukjJoTMELKHALE')]\").text.strip()\n",
    "             \n",
    "              result.append({\"Name\": name, \"Occupation\":occupation,\"Location\":location})\n",
    "              print(f\"Name: {name},Occupation:{occupation},Location:{location}\")\n",
    "            except Exception as e:\n",
    "              print(f'Error while scraping a profile:{e}')\n",
    "            time.sleep(3)\n",
    "        try: \n",
    "             driver.execute_script(\"window.scrollTo(0, document.body.scrollHeight);\")\n",
    "             time.sleep(7)\n",
    "             next_button = driver.find_element(By.XPATH,\"//button[@aria-label='Next']\")\n",
    "             if next_button.is_enabled():\n",
    "              next_button.click()\n",
    "              time.sleep(3)\n",
    "             else:\n",
    "               print(\"Next button is disabled\")\n",
    "        except:\n",
    "            pass\n",
    "            time.sleep(4)\n",
    "    return result"
   ]
  },
  {
   "cell_type": "code",
   "execution_count": 23,
   "id": "fa57bd82-c34e-49e2-86b1-7769e6f60cae",
   "metadata": {},
   "outputs": [],
   "source": [
    "def save_data(data, filename= 'Database_cipher.csv'):\n",
    "    df = pd.DataFrame(data)\n",
    "    df.to_csv(filename,index=False)\n",
    "    print(f'Data saved to {filename}')"
   ]
  },
  {
   "cell_type": "code",
   "execution_count": 24,
   "id": "655e9550-9765-45d3-b581-dc88cda979cd",
   "metadata": {},
   "outputs": [],
   "source": [
    "def main():\n",
    "    try:\n",
    "        result = scrape_result(driver)\n",
    "        save_data(result,filename= 'Database_cipher.csv')\n",
    "    finally:\n",
    "        driver.quit()"
   ]
  },
  {
   "cell_type": "code",
   "execution_count": null,
   "id": "fe7c5e6d-fad8-4053-ad86-745a58578805",
   "metadata": {},
   "outputs": [],
   "source": [
    "if __name__==\"__main__\":\n",
    "    main()"
   ]
  },
  {
   "cell_type": "code",
   "execution_count": null,
   "id": "d1732948-0f93-415d-b785-712e5674258e",
   "metadata": {},
   "outputs": [],
   "source": [
    " linkedIn_id = profile.find_element(By.XPATH,\".//a[contains(@class,'xrRzshziQfYBvuVMpfGnTyyiKZZqmaRxghNaNJtQ')]\")\n",
    "\"LinkedIN_ID\":linkedIn_id"
   ]
  }
 ],
 "metadata": {
  "kernelspec": {
   "display_name": "Python 3 (ipykernel)",
   "language": "python",
   "name": "python3"
  },
  "language_info": {
   "codemirror_mode": {
    "name": "ipython",
    "version": 3
   },
   "file_extension": ".py",
   "mimetype": "text/x-python",
   "name": "python",
   "nbconvert_exporter": "python",
   "pygments_lexer": "ipython3",
   "version": "3.12.4"
  }
 },
 "nbformat": 4,
 "nbformat_minor": 5
}
